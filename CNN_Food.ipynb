{
  "nbformat": 4,
  "nbformat_minor": 0,
  "metadata": {
    "colab": {
      "name": "CNN_Food.ipynb",
      "provenance": [],
      "collapsed_sections": []
    },
    "kernelspec": {
      "name": "python3",
      "display_name": "Python 3"
    },
    "language_info": {
      "name": "python"
    },
    "accelerator": "GPU"
  },
  "cells": [
    {
      "cell_type": "code",
      "execution_count": 5,
      "metadata": {
        "id": "Fzx3OfoLonmS"
      },
      "outputs": [],
      "source": [
        "import pickle\n",
        "from sklearn.model_selection import train_test_split\n",
        "from keras.preprocessing.image import ImageDataGenerator\n",
        "from keras.models import Sequential\n",
        "from keras.layers.convolutional import MaxPooling2D\n",
        "from keras.layers.convolutional import Conv2D\n",
        "from keras.layers import Dense, Activation, Flatten, Input, Dropout\n",
        "from tensorflow.keras.optimizers import SGD\n",
        "from keras.models import load_model\n",
        "import cv2 as cv\n",
        "from keras.preprocessing.image import load_img, img_to_array\n",
        "import numpy as np\n",
        "import tensorflow as tf\n",
        "from tensorflow.keras import layers\n",
        "from tensorflow.keras.optimizers import SGD\n",
        "from tensorflow.keras.utils import to_categorical\n",
        "from tensorflow.keras.preprocessing.image import load_img, img_to_array"
      ]
    },
    {
      "cell_type": "code",
      "source": [
        "from google.colab import drive\n",
        "drive.mount('/content/drive')"
      ],
      "metadata": {
        "colab": {
          "base_uri": "https://localhost:8080/"
        },
        "id": "dHR7v6vsNEYo",
        "outputId": "ff94b196-5f81-4258-9d3c-fc0ffc07afea"
      },
      "execution_count": 1,
      "outputs": [
        {
          "output_type": "stream",
          "name": "stdout",
          "text": [
            "Mounted at /content/drive\n"
          ]
        }
      ]
    },
    {
      "cell_type": "code",
      "source": [
        "def load_data():\n",
        "    file = open('/content/drive/MyDrive/dataCNN/foods.data', 'rb')\n",
        "\n",
        "    # dump information to that file\n",
        "    (pixels, labels) = pickle.load(file)\n",
        "\n",
        "    # close the file\n",
        "    file.close()\n",
        "\n",
        "    print(pixels.shape)\n",
        "    print(labels.shape)\n",
        "\n",
        "\n",
        "    return pixels, labels"
      ],
      "metadata": {
        "id": "Os8WJLzaozkB"
      },
      "execution_count": 27,
      "outputs": []
    },
    {
      "cell_type": "code",
      "source": [
        "label = ['Banh cuon','Banh mi','Banh xeo','Bun bo hue','Bun dau mam tom','Chao long','Com tam','Goi cuon','Mi quang','Pho']"
      ],
      "metadata": {
        "id": "B8vzPDP1vhtc"
      },
      "execution_count": 79,
      "outputs": []
    },
    {
      "cell_type": "code",
      "source": [
        "X,y = load_data()"
      ],
      "metadata": {
        "colab": {
          "base_uri": "https://localhost:8080/"
        },
        "id": "ddBmccxJqRqg",
        "outputId": "b5fee28d-010a-4302-9053-374cbc7a7e20"
      },
      "execution_count": 40,
      "outputs": [
        {
          "output_type": "stream",
          "name": "stdout",
          "text": [
            "(5500, 128, 128, 3)\n",
            "(5500, 10)\n"
          ]
        }
      ]
    },
    {
      "cell_type": "code",
      "source": [
        "X_train, X_test, y_train, y_test = train_test_split( X, y, test_size=0.2, random_state=100)"
      ],
      "metadata": {
        "id": "D9iPwSypqbgD"
      },
      "execution_count": 56,
      "outputs": []
    },
    {
      "cell_type": "code",
      "source": [
        "model = Sequential()"
      ],
      "metadata": {
        "id": "Hs37tIqgqwcG"
      },
      "execution_count": 57,
      "outputs": []
    },
    {
      "cell_type": "code",
      "source": [
        "model.add(Conv2D(32, (3, 3), activation='relu', kernel_initializer='he_uniform', padding='same', input_shape=(128, 128, 3)))\n",
        "model.add(Conv2D(32, (3, 3), activation='relu', kernel_initializer='he_uniform', padding='same'))\n",
        "model.add(MaxPooling2D((2, 2)))\n",
        "model.add(Conv2D(64, (3, 3), activation='relu', kernel_initializer='he_uniform', padding='same'))\n",
        "model.add(Conv2D(64, (3, 3), activation='relu', kernel_initializer='he_uniform', padding='same'))\n",
        "model.add(MaxPooling2D((2, 2)))\n",
        "model.add(Conv2D(128, (3, 3), activation='relu', kernel_initializer='he_uniform', padding='same'))\n",
        "model.add(Conv2D(128, (3, 3), activation='relu', kernel_initializer='he_uniform', padding='same'))\n",
        "model.add(MaxPooling2D((2, 2)))\n",
        "model.add(Flatten())\n",
        "model.add(Dense(1024, activation='relu'))\n",
        "model.add(Dense(10, activation='softmax'))"
      ],
      "metadata": {
        "id": "0p5wQCNmrPzh"
      },
      "execution_count": 58,
      "outputs": []
    },
    {
      "cell_type": "code",
      "source": [
        "opt = SGD(lr=0.001, momentum=0.9)\n",
        "model.compile(optimizer=opt, loss='categorical_crossentropy', metrics=['accuracy'])\n",
        "aug = ImageDataGenerator(rotation_range=20, zoom_range=0.1,\n",
        "    rescale=1./255,\n",
        "\twidth_shift_range=0.1,\n",
        "    height_shift_range=0.1,\n",
        "\thorizontal_flip=True,\n",
        "    brightness_range=[0.2,1.5], fill_mode=\"nearest\")"
      ],
      "metadata": {
        "colab": {
          "base_uri": "https://localhost:8080/"
        },
        "id": "-FS6SC9YrkgG",
        "outputId": "29975475-ed48-4bbc-d64e-687a93f52303"
      },
      "execution_count": 59,
      "outputs": [
        {
          "output_type": "stream",
          "name": "stderr",
          "text": [
            "/usr/local/lib/python3.7/dist-packages/keras/optimizer_v2/gradient_descent.py:102: UserWarning: The `lr` argument is deprecated, use `learning_rate` instead.\n",
            "  super(SGD, self).__init__(name, **kwargs)\n"
          ]
        }
      ]
    },
    {
      "cell_type": "code",
      "source": [
        "history = model.fit(aug.flow(X_train, y_train, batch_size=128),epochs=50, validation_data=aug.flow(X_test,y_test,batch_size=128), verbose=1)"
      ],
      "metadata": {
        "colab": {
          "base_uri": "https://localhost:8080/"
        },
        "id": "TDq2ZBSRrnB6",
        "outputId": "1bc13885-73e2-4099-c8a4-e1b0421d28db"
      },
      "execution_count": 60,
      "outputs": [
        {
          "output_type": "stream",
          "name": "stdout",
          "text": [
            "Epoch 1/50\n",
            "35/35 [==============================] - 26s 737ms/step - loss: 2.2943 - accuracy: 0.1384 - val_loss: 2.2397 - val_accuracy: 0.2127\n",
            "Epoch 2/50\n",
            "35/35 [==============================] - 24s 689ms/step - loss: 2.1615 - accuracy: 0.2291 - val_loss: 2.1907 - val_accuracy: 0.2182\n",
            "Epoch 3/50\n",
            "35/35 [==============================] - 25s 723ms/step - loss: 2.0824 - accuracy: 0.2548 - val_loss: 2.1220 - val_accuracy: 0.2691\n",
            "Epoch 4/50\n",
            "35/35 [==============================] - 24s 689ms/step - loss: 2.0257 - accuracy: 0.2780 - val_loss: 2.0271 - val_accuracy: 0.2955\n",
            "Epoch 5/50\n",
            "35/35 [==============================] - 24s 689ms/step - loss: 2.0233 - accuracy: 0.2884 - val_loss: 2.0645 - val_accuracy: 0.2882\n",
            "Epoch 6/50\n",
            "35/35 [==============================] - 24s 692ms/step - loss: 1.9753 - accuracy: 0.3080 - val_loss: 1.9710 - val_accuracy: 0.3145\n",
            "Epoch 7/50\n",
            "35/35 [==============================] - 24s 682ms/step - loss: 1.9524 - accuracy: 0.3141 - val_loss: 1.9385 - val_accuracy: 0.3391\n",
            "Epoch 8/50\n",
            "35/35 [==============================] - 24s 689ms/step - loss: 1.9031 - accuracy: 0.3480 - val_loss: 1.9356 - val_accuracy: 0.3373\n",
            "Epoch 9/50\n",
            "35/35 [==============================] - 24s 686ms/step - loss: 1.8904 - accuracy: 0.3552 - val_loss: 1.9533 - val_accuracy: 0.3400\n",
            "Epoch 10/50\n",
            "35/35 [==============================] - 24s 683ms/step - loss: 1.8783 - accuracy: 0.3582 - val_loss: 1.9011 - val_accuracy: 0.3600\n",
            "Epoch 11/50\n",
            "35/35 [==============================] - 24s 686ms/step - loss: 1.8811 - accuracy: 0.3552 - val_loss: 1.8882 - val_accuracy: 0.3700\n",
            "Epoch 12/50\n",
            "35/35 [==============================] - 24s 689ms/step - loss: 1.8095 - accuracy: 0.3866 - val_loss: 1.8562 - val_accuracy: 0.3800\n",
            "Epoch 13/50\n",
            "35/35 [==============================] - 24s 688ms/step - loss: 1.8078 - accuracy: 0.3848 - val_loss: 1.8419 - val_accuracy: 0.3736\n",
            "Epoch 14/50\n",
            "35/35 [==============================] - 24s 679ms/step - loss: 1.7833 - accuracy: 0.3986 - val_loss: 1.8724 - val_accuracy: 0.3636\n",
            "Epoch 15/50\n",
            "35/35 [==============================] - 24s 686ms/step - loss: 1.7511 - accuracy: 0.4109 - val_loss: 1.8570 - val_accuracy: 0.3945\n",
            "Epoch 16/50\n",
            "35/35 [==============================] - 24s 678ms/step - loss: 1.7386 - accuracy: 0.4198 - val_loss: 1.8091 - val_accuracy: 0.3891\n",
            "Epoch 17/50\n",
            "35/35 [==============================] - 24s 683ms/step - loss: 1.7378 - accuracy: 0.4107 - val_loss: 1.7744 - val_accuracy: 0.4109\n",
            "Epoch 18/50\n",
            "35/35 [==============================] - 24s 690ms/step - loss: 1.6859 - accuracy: 0.4336 - val_loss: 1.7231 - val_accuracy: 0.4155\n",
            "Epoch 19/50\n",
            "35/35 [==============================] - 24s 697ms/step - loss: 1.6848 - accuracy: 0.4309 - val_loss: 1.7529 - val_accuracy: 0.4127\n",
            "Epoch 20/50\n",
            "35/35 [==============================] - 24s 679ms/step - loss: 1.6543 - accuracy: 0.4455 - val_loss: 1.7651 - val_accuracy: 0.4118\n",
            "Epoch 21/50\n",
            "35/35 [==============================] - 24s 688ms/step - loss: 1.6666 - accuracy: 0.4341 - val_loss: 1.7316 - val_accuracy: 0.4373\n",
            "Epoch 22/50\n",
            "35/35 [==============================] - 24s 688ms/step - loss: 1.6250 - accuracy: 0.4543 - val_loss: 1.7586 - val_accuracy: 0.4282\n",
            "Epoch 23/50\n",
            "35/35 [==============================] - 24s 684ms/step - loss: 1.6183 - accuracy: 0.4623 - val_loss: 1.7076 - val_accuracy: 0.4527\n",
            "Epoch 24/50\n",
            "35/35 [==============================] - 24s 687ms/step - loss: 1.5995 - accuracy: 0.4652 - val_loss: 1.7788 - val_accuracy: 0.4227\n",
            "Epoch 25/50\n",
            "35/35 [==============================] - 24s 681ms/step - loss: 1.6022 - accuracy: 0.4645 - val_loss: 1.7325 - val_accuracy: 0.4209\n",
            "Epoch 26/50\n",
            "35/35 [==============================] - 24s 687ms/step - loss: 1.5769 - accuracy: 0.4739 - val_loss: 1.7257 - val_accuracy: 0.4500\n",
            "Epoch 27/50\n",
            "35/35 [==============================] - 24s 686ms/step - loss: 1.5451 - accuracy: 0.4905 - val_loss: 1.6480 - val_accuracy: 0.4700\n",
            "Epoch 28/50\n",
            "35/35 [==============================] - 24s 690ms/step - loss: 1.5081 - accuracy: 0.4973 - val_loss: 1.7007 - val_accuracy: 0.4200\n",
            "Epoch 29/50\n",
            "35/35 [==============================] - 24s 689ms/step - loss: 1.4957 - accuracy: 0.5070 - val_loss: 1.7434 - val_accuracy: 0.4455\n",
            "Epoch 30/50\n",
            "35/35 [==============================] - 24s 692ms/step - loss: 1.4823 - accuracy: 0.5114 - val_loss: 1.6692 - val_accuracy: 0.4418\n",
            "Epoch 31/50\n",
            "35/35 [==============================] - 24s 687ms/step - loss: 1.4721 - accuracy: 0.5118 - val_loss: 1.6966 - val_accuracy: 0.4155\n",
            "Epoch 32/50\n",
            "35/35 [==============================] - 24s 690ms/step - loss: 1.4914 - accuracy: 0.5032 - val_loss: 1.6121 - val_accuracy: 0.4809\n",
            "Epoch 33/50\n",
            "35/35 [==============================] - 24s 688ms/step - loss: 1.4526 - accuracy: 0.5105 - val_loss: 1.5940 - val_accuracy: 0.4855\n",
            "Epoch 34/50\n",
            "35/35 [==============================] - 24s 685ms/step - loss: 1.4298 - accuracy: 0.5264 - val_loss: 1.5606 - val_accuracy: 0.4827\n",
            "Epoch 35/50\n",
            "35/35 [==============================] - 24s 691ms/step - loss: 1.4448 - accuracy: 0.5207 - val_loss: 1.7606 - val_accuracy: 0.4109\n",
            "Epoch 36/50\n",
            "35/35 [==============================] - 24s 701ms/step - loss: 1.4118 - accuracy: 0.5255 - val_loss: 1.5994 - val_accuracy: 0.4873\n",
            "Epoch 37/50\n",
            "35/35 [==============================] - 24s 684ms/step - loss: 1.3376 - accuracy: 0.5630 - val_loss: 1.5877 - val_accuracy: 0.4800\n",
            "Epoch 38/50\n",
            "35/35 [==============================] - 24s 684ms/step - loss: 1.3599 - accuracy: 0.5520 - val_loss: 1.5379 - val_accuracy: 0.4982\n",
            "Epoch 39/50\n",
            "35/35 [==============================] - 24s 686ms/step - loss: 1.3686 - accuracy: 0.5448 - val_loss: 1.5736 - val_accuracy: 0.4827\n",
            "Epoch 40/50\n",
            "35/35 [==============================] - 24s 689ms/step - loss: 1.3243 - accuracy: 0.5559 - val_loss: 1.5796 - val_accuracy: 0.4664\n",
            "Epoch 41/50\n",
            "35/35 [==============================] - 24s 689ms/step - loss: 1.3124 - accuracy: 0.5536 - val_loss: 1.6024 - val_accuracy: 0.4936\n",
            "Epoch 42/50\n",
            "35/35 [==============================] - 24s 694ms/step - loss: 1.2999 - accuracy: 0.5682 - val_loss: 1.5042 - val_accuracy: 0.5100\n",
            "Epoch 43/50\n",
            "35/35 [==============================] - 24s 704ms/step - loss: 1.3144 - accuracy: 0.5568 - val_loss: 1.6209 - val_accuracy: 0.4755\n",
            "Epoch 44/50\n",
            "35/35 [==============================] - 24s 689ms/step - loss: 1.2704 - accuracy: 0.5836 - val_loss: 1.5096 - val_accuracy: 0.5100\n",
            "Epoch 45/50\n",
            "35/35 [==============================] - 24s 687ms/step - loss: 1.2520 - accuracy: 0.5857 - val_loss: 1.5322 - val_accuracy: 0.4845\n",
            "Epoch 46/50\n",
            "35/35 [==============================] - 24s 686ms/step - loss: 1.2526 - accuracy: 0.5927 - val_loss: 1.5886 - val_accuracy: 0.4873\n",
            "Epoch 47/50\n",
            "35/35 [==============================] - 24s 678ms/step - loss: 1.2273 - accuracy: 0.5936 - val_loss: 1.5556 - val_accuracy: 0.4964\n",
            "Epoch 48/50\n",
            "35/35 [==============================] - 24s 685ms/step - loss: 1.1752 - accuracy: 0.6150 - val_loss: 1.5918 - val_accuracy: 0.4955\n",
            "Epoch 49/50\n",
            "35/35 [==============================] - 24s 679ms/step - loss: 1.2250 - accuracy: 0.5959 - val_loss: 1.5201 - val_accuracy: 0.5264\n",
            "Epoch 50/50\n",
            "35/35 [==============================] - 24s 681ms/step - loss: 1.1716 - accuracy: 0.6175 - val_loss: 1.6033 - val_accuracy: 0.5118\n"
          ]
        }
      ]
    },
    {
      "cell_type": "code",
      "source": [
        "score = model.evaluate(X_test, y_test, verbose=0)\n",
        "print('Test loss: %.4f'% score[0])\n",
        "print('Test accuracy %.4f'% score[1])"
      ],
      "metadata": {
        "colab": {
          "base_uri": "https://localhost:8080/"
        },
        "id": "BEztLynUFtUp",
        "outputId": "8e514989-0dcf-4591-bb3e-7369b1fc12c5"
      },
      "execution_count": 61,
      "outputs": [
        {
          "output_type": "stream",
          "name": "stdout",
          "text": [
            "Test loss: 174.1596\n",
            "Test accuracy 0.5227\n"
          ]
        }
      ]
    },
    {
      "cell_type": "code",
      "source": [
        "model.save('Final.h5')"
      ],
      "metadata": {
        "id": "2FdZlS2rtVER"
      },
      "execution_count": 62,
      "outputs": []
    },
    {
      "cell_type": "code",
      "source": [
        "model_5 = load_model('Final.h5')"
      ],
      "metadata": {
        "id": "WXWzL8gNtaXA"
      },
      "execution_count": 82,
      "outputs": []
    },
    {
      "cell_type": "code",
      "source": [
        "img = cv.imread('36.jpg')"
      ],
      "metadata": {
        "id": "Hz6_OzpAubgJ"
      },
      "execution_count": 83,
      "outputs": []
    },
    {
      "cell_type": "code",
      "source": [
        "img = cv.resize(img, dsize=(128, 128))\n",
        "img = img.astype('float')*1./255\n",
        "# Convert to tensor\n",
        "img = np.expand_dims(img, axis=0)"
      ],
      "metadata": {
        "id": "2CGFgsfDZDm9"
      },
      "execution_count": 84,
      "outputs": []
    },
    {
      "cell_type": "code",
      "source": [
        "predict = model_5.predict(img)"
      ],
      "metadata": {
        "id": "JKbnDbF3vJAR"
      },
      "execution_count": 85,
      "outputs": []
    },
    {
      "cell_type": "code",
      "source": [
        "label[np.argmax(model.predict(img), axis=1)[0]]"
      ],
      "metadata": {
        "colab": {
          "base_uri": "https://localhost:8080/",
          "height": 35
        },
        "id": "0PYAazdnuCND",
        "outputId": "3ec94d78-a67a-43f1-ea6b-9ba22f6a6a1f"
      },
      "execution_count": 86,
      "outputs": [
        {
          "output_type": "execute_result",
          "data": {
            "text/plain": [
              "'Mi quang'"
            ],
            "application/vnd.google.colaboratory.intrinsic+json": {
              "type": "string"
            }
          },
          "metadata": {},
          "execution_count": 86
        }
      ]
    }
  ]
}